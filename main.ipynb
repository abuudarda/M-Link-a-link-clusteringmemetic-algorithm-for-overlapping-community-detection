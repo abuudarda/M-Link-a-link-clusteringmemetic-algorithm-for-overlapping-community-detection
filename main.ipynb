{
 "cells": [
  {
   "cell_type": "code",
   "execution_count": 5,
   "metadata": {},
   "outputs": [
    {
     "name": "stdout",
     "output_type": "stream",
     "text": [
      "16\n"
     ]
    }
   ],
   "source": [
    "adj = {}\n",
    "\n",
    "with open(\"graph.txt\", 'r') as file:\n",
    "    for line in file:\n",
    "        u, v = map(int, line.strip().split())\n",
    "        if u in adj:\n",
    "            adj[u].append(v)\n",
    "        else:\n",
    "            adj[u] = [v]\n"
   ]
  },
  {
   "cell_type": "code",
   "execution_count": null,
   "metadata": {},
   "outputs": [],
   "source": [
    "import random"
   ]
  },
  {
   "cell_type": "code",
   "execution_count": null,
   "metadata": {},
   "outputs": [],
   "source": [
    "def m_link(adj):\n",
    "    treePopulation = initializePopulation(adj)\n",
    "    evaluate(treePopulation)\n",
    "\n",
    "    while termination :\n",
    "        for a in treePopulation:\n",
    "            parent1 = selectIndividualFrom(a)\n",
    "            \n",
    "            if notLostDiversity():\n",
    "                parent2 = closeSelect(a)\n",
    "            else:\n",
    "                parent2 = farSelect(a)\n",
    "            \n",
    "            offspring = crossover(parent1, parent2)\n",
    "            mutate(offspring)\n",
    "\n",
    "            if (random.uniform(0,1) < lsp):\n",
    "                localSearch(offspring)\n",
    "            \n",
    "            updatePopulation(offspring)\n",
    "            \n",
    "    overlappingCommunities = postProcessing(getBest(treePopulation))\n"
   ]
  },
  {
   "cell_type": "code",
   "execution_count": null,
   "metadata": {},
   "outputs": [],
   "source": [
    "def crossover(parent1, parent2):\n",
    "    offspring = []\n",
    "    for g in range(len(parent1)):\n",
    "        if random.uniform(0,1) < cp :\n",
    "            offspring.append(parent1[g])\n",
    "        else : offspring.append(parent2[g])\n",
    "\n",
    "def mutation(individual):\n",
    "    "
   ]
  },
  {
   "cell_type": "code",
   "execution_count": null,
   "metadata": {},
   "outputs": [],
   "source": []
  }
 ],
 "metadata": {
  "kernelspec": {
   "display_name": "Python 3",
   "language": "python",
   "name": "python3"
  },
  "language_info": {
   "codemirror_mode": {
    "name": "ipython",
    "version": 3
   },
   "file_extension": ".py",
   "mimetype": "text/x-python",
   "name": "python",
   "nbconvert_exporter": "python",
   "pygments_lexer": "ipython3",
   "version": "3.10.11"
  }
 },
 "nbformat": 4,
 "nbformat_minor": 2
}
